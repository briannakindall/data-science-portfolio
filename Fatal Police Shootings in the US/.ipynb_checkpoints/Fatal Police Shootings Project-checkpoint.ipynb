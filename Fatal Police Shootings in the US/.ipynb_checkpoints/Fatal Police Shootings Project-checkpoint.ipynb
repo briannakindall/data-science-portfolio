{
 "cells": [
  {
   "cell_type": "markdown",
   "metadata": {},
   "source": [
    "# Fatal Police Shootings in the US (2015-2020)\n",
    "\n",
    "Police brutality has been a problem in the United States since police forces have existed. However, in recent years this problem has come to the attention of the average US resident, thanks to more accessible, better media coverage. Sadly, there have been too many fatal encounters with the police, especially through gun violence. \n",
    "\n",
    "What disturbs the public even more is the alarming disproportion between the number of cases in which racial and ethnic minorites fall victim to police brutality compared to those that are white. Many have argued that there is not a problem because the chances of being fatally shot by police are low and because looking at numbers, there are more incidents of white people being fatally shot by police than people of other races. Additionally, some say that there are more minorities getting involved with the police, attacking police, etc. than white people.\n",
    "\n",
    "The purpose of this project is to explore cases of fatal police shootings in the US from 2015-2020 and find out through data analysis if there is indeed a disproportion between fatal police shootings among white people and minorities. If there is, where in the US is this issue most prevalent? Additionally, can we find evidence to counter the types of claims posed above? \n",
    "\n",
    "\n",
    "\n",
    "## Summary of Results\n",
    "\n",
    "We found that minorities in the US are disproportionately shot and killed by the police. Black people tend to be shot and killed by police more than any other race. Additionally, we saw that the states Utah, Minnesota, West Virginia, and Massachusetts have the greatest disproportions for Black, Native American, Asian, and Hispanic people, respectively. \n",
    "\n",
    "Additionally, 65% of people attacked police before being shot. The proportion of white people that attacked was higher than the proportion for all other races excpet black, which was only greater by about 1%.  \n",
    "\n",
    "***"
   ]
  },
  {
   "cell_type": "markdown",
   "metadata": {},
   "source": [
    "## The Data\n",
    "\n",
    "The Washington Post has been recording fatal police shootings throughout the United States since 2015 and continues to compile this information into a dataset which can be found in their GitHub repository [here.](https://github.com/washingtonpost/data-police-shootings)\n",
    "\n",
    "The data includes\n",
    "   - __name__: The name of the person \n",
    "   - __date__: The month, day and year of the fatal shooting\n",
    "   - __manner_of_death__: How the person was killed\n",
    "   - __armed__: Whether or not the person was armed, and if so the weapon is specified\n",
    "   - __age__: The age of the person \n",
    "   - __gender__: The gender of the person (Male, Female, or unknown)\n",
    "   - __race:__ The persons's race (W-White, B-Black, H-Hispanic, A-Asian, N-Native American, O-Other)\n",
    "   - __city:__ The city in which the shooting took place\n",
    "   - __state:__ The state in which the shooting took place (by abbreviaiton)\n",
    "   - __signs_of_mental_illness:__ True or False\n",
    "   - __threat_level:__ Whether or not the person attacked the police\n",
    "   - __flee:__ Whether or not the person fled, and how (by vehicle, on foot, etc)\n",
    "   - __body_camera:__ Whether or not the police officer(s) had a body camera on them at the time of the incident\n",
    "\n",
    "### Census Data\n",
    "In addition, four datasets from the US census will be used. These include the estimated racial population in each state. The datasets can be found [here.](https://data.census.gov/cedsci/table?q=United%20States&table=DP05&tid=ACSDT1Y2018.B03002&g=0100000US,.04000.001&lastDisplayedRow=29&vintage=2018&layer=state&cid=DP05_0001E&t=Race%20and%20Ethnicity&hidePreview=true&moe=false&tp=false) These will be combined and averaged to get a better estimate of the population of each race in each state since 2015. \n",
    "\n"
   ]
  },
  {
   "cell_type": "markdown",
   "metadata": {},
   "source": [
    "***"
   ]
  },
  {
   "cell_type": "markdown",
   "metadata": {},
   "source": [
    "## Exploring the Data\n",
    "\n",
    "We will start by loading the data from the Washington Post."
   ]
  },
  {
   "cell_type": "code",
   "execution_count": 1,
   "metadata": {},
   "outputs": [],
   "source": [
    "# Import libraries\n",
    "import pandas as pd\n",
    "import numpy as np\n",
    "import matplotlib.pyplot as plt\n",
    "import seaborn as sns\n",
    "import requests\n",
    "import csv\n",
    "%matplotlib inline\n",
    "\n"
   ]
  },
  {
   "cell_type": "code",
   "execution_count": 2,
   "metadata": {},
   "outputs": [],
   "source": [
    "# Read in data from the Washington Post's GitHub repository\n",
    "url = \"https://github.com/washingtonpost/data-police-shootings/releases/download/v0.1/fatal-police-shootings-data.csv\"\n",
    "content = requests.get(url)\n",
    "wrapper = csv.reader(content.text.strip().split('\\n'),delimiter=\",\")\n",
    "unwrap = list()\n",
    "for row in wrapper:\n",
    "    unwrap.append(row)"
   ]
  },
  {
   "cell_type": "code",
   "execution_count": 3,
   "metadata": {},
   "outputs": [],
   "source": [
    "# Store content into a Data Frame named shootings\n",
    "column_names = unwrap[0]\n",
    "data = pd.DataFrame(unwrap[1:],columns=column_names)\n",
    "shootings = data.copy()\n",
    "\n",
    "\n"
   ]
  },
  {
   "cell_type": "code",
   "execution_count": 4,
   "metadata": {},
   "outputs": [
    {
     "name": "stdout",
     "output_type": "stream",
     "text": [
      "<class 'pandas.core.frame.DataFrame'>\n",
      "RangeIndex: 5652 entries, 0 to 5651\n",
      "Data columns (total 17 columns):\n",
      " #   Column                   Non-Null Count  Dtype \n",
      "---  ------                   --------------  ----- \n",
      " 0   id                       5652 non-null   object\n",
      " 1   name                     5652 non-null   object\n",
      " 2   date                     5652 non-null   object\n",
      " 3   manner_of_death          5652 non-null   object\n",
      " 4   armed                    5652 non-null   object\n",
      " 5   age                      5652 non-null   object\n",
      " 6   gender                   5652 non-null   object\n",
      " 7   race                     5652 non-null   object\n",
      " 8   city                     5652 non-null   object\n",
      " 9   state                    5652 non-null   object\n",
      " 10  signs_of_mental_illness  5652 non-null   object\n",
      " 11  threat_level             5652 non-null   object\n",
      " 12  flee                     5652 non-null   object\n",
      " 13  body_camera              5652 non-null   object\n",
      " 14  longitude                5652 non-null   object\n",
      " 15  latitude                 5652 non-null   object\n",
      " 16  is_geocoding_exact       5652 non-null   object\n",
      "dtypes: object(17)\n",
      "memory usage: 750.8+ KB\n"
     ]
    }
   ],
   "source": [
    "# Display information about the dataset, i.e. datatypes, missing values, etc\n",
    "shootings.info()"
   ]
  },
  {
   "cell_type": "code",
   "execution_count": 5,
   "metadata": {},
   "outputs": [
    {
     "data": {
      "text/html": [
       "<div>\n",
       "<style scoped>\n",
       "    .dataframe tbody tr th:only-of-type {\n",
       "        vertical-align: middle;\n",
       "    }\n",
       "\n",
       "    .dataframe tbody tr th {\n",
       "        vertical-align: top;\n",
       "    }\n",
       "\n",
       "    .dataframe thead th {\n",
       "        text-align: right;\n",
       "    }\n",
       "</style>\n",
       "<table border=\"1\" class=\"dataframe\">\n",
       "  <thead>\n",
       "    <tr style=\"text-align: right;\">\n",
       "      <th></th>\n",
       "      <th>id</th>\n",
       "      <th>name</th>\n",
       "      <th>date</th>\n",
       "      <th>manner_of_death</th>\n",
       "      <th>armed</th>\n",
       "      <th>age</th>\n",
       "      <th>gender</th>\n",
       "      <th>race</th>\n",
       "      <th>city</th>\n",
       "      <th>state</th>\n",
       "      <th>signs_of_mental_illness</th>\n",
       "      <th>threat_level</th>\n",
       "      <th>flee</th>\n",
       "      <th>body_camera</th>\n",
       "      <th>longitude</th>\n",
       "      <th>latitude</th>\n",
       "      <th>is_geocoding_exact</th>\n",
       "    </tr>\n",
       "  </thead>\n",
       "  <tbody>\n",
       "    <tr>\n",
       "      <th>0</th>\n",
       "      <td>3</td>\n",
       "      <td>Tim Elliot</td>\n",
       "      <td>2015-01-02</td>\n",
       "      <td>shot</td>\n",
       "      <td>gun</td>\n",
       "      <td>53</td>\n",
       "      <td>M</td>\n",
       "      <td>A</td>\n",
       "      <td>Shelton</td>\n",
       "      <td>WA</td>\n",
       "      <td>True</td>\n",
       "      <td>attack</td>\n",
       "      <td>Not fleeing</td>\n",
       "      <td>False</td>\n",
       "      <td>-123.122</td>\n",
       "      <td>47.247</td>\n",
       "      <td>True</td>\n",
       "    </tr>\n",
       "    <tr>\n",
       "      <th>1</th>\n",
       "      <td>4</td>\n",
       "      <td>Lewis Lee Lembke</td>\n",
       "      <td>2015-01-02</td>\n",
       "      <td>shot</td>\n",
       "      <td>gun</td>\n",
       "      <td>47</td>\n",
       "      <td>M</td>\n",
       "      <td>W</td>\n",
       "      <td>Aloha</td>\n",
       "      <td>OR</td>\n",
       "      <td>False</td>\n",
       "      <td>attack</td>\n",
       "      <td>Not fleeing</td>\n",
       "      <td>False</td>\n",
       "      <td>-122.892</td>\n",
       "      <td>45.487</td>\n",
       "      <td>True</td>\n",
       "    </tr>\n",
       "    <tr>\n",
       "      <th>2</th>\n",
       "      <td>5</td>\n",
       "      <td>John Paul Quintero</td>\n",
       "      <td>2015-01-03</td>\n",
       "      <td>shot and Tasered</td>\n",
       "      <td>unarmed</td>\n",
       "      <td>23</td>\n",
       "      <td>M</td>\n",
       "      <td>H</td>\n",
       "      <td>Wichita</td>\n",
       "      <td>KS</td>\n",
       "      <td>False</td>\n",
       "      <td>other</td>\n",
       "      <td>Not fleeing</td>\n",
       "      <td>False</td>\n",
       "      <td>-97.281</td>\n",
       "      <td>37.695</td>\n",
       "      <td>True</td>\n",
       "    </tr>\n",
       "    <tr>\n",
       "      <th>3</th>\n",
       "      <td>8</td>\n",
       "      <td>Matthew Hoffman</td>\n",
       "      <td>2015-01-04</td>\n",
       "      <td>shot</td>\n",
       "      <td>toy weapon</td>\n",
       "      <td>32</td>\n",
       "      <td>M</td>\n",
       "      <td>W</td>\n",
       "      <td>San Francisco</td>\n",
       "      <td>CA</td>\n",
       "      <td>True</td>\n",
       "      <td>attack</td>\n",
       "      <td>Not fleeing</td>\n",
       "      <td>False</td>\n",
       "      <td>-122.422</td>\n",
       "      <td>37.763</td>\n",
       "      <td>True</td>\n",
       "    </tr>\n",
       "    <tr>\n",
       "      <th>4</th>\n",
       "      <td>9</td>\n",
       "      <td>Michael Rodriguez</td>\n",
       "      <td>2015-01-04</td>\n",
       "      <td>shot</td>\n",
       "      <td>nail gun</td>\n",
       "      <td>39</td>\n",
       "      <td>M</td>\n",
       "      <td>H</td>\n",
       "      <td>Evans</td>\n",
       "      <td>CO</td>\n",
       "      <td>False</td>\n",
       "      <td>attack</td>\n",
       "      <td>Not fleeing</td>\n",
       "      <td>False</td>\n",
       "      <td>-104.692</td>\n",
       "      <td>40.384</td>\n",
       "      <td>True</td>\n",
       "    </tr>\n",
       "  </tbody>\n",
       "</table>\n",
       "</div>"
      ],
      "text/plain": [
       "  id                name        date   manner_of_death       armed age gender  \\\n",
       "0  3          Tim Elliot  2015-01-02              shot         gun  53      M   \n",
       "1  4    Lewis Lee Lembke  2015-01-02              shot         gun  47      M   \n",
       "2  5  John Paul Quintero  2015-01-03  shot and Tasered     unarmed  23      M   \n",
       "3  8     Matthew Hoffman  2015-01-04              shot  toy weapon  32      M   \n",
       "4  9   Michael Rodriguez  2015-01-04              shot    nail gun  39      M   \n",
       "\n",
       "  race           city state signs_of_mental_illness threat_level         flee  \\\n",
       "0    A        Shelton    WA                    True       attack  Not fleeing   \n",
       "1    W          Aloha    OR                   False       attack  Not fleeing   \n",
       "2    H        Wichita    KS                   False        other  Not fleeing   \n",
       "3    W  San Francisco    CA                    True       attack  Not fleeing   \n",
       "4    H          Evans    CO                   False       attack  Not fleeing   \n",
       "\n",
       "  body_camera longitude latitude is_geocoding_exact  \n",
       "0       False  -123.122   47.247               True  \n",
       "1       False  -122.892   45.487               True  \n",
       "2       False   -97.281   37.695               True  \n",
       "3       False  -122.422   37.763               True  \n",
       "4       False  -104.692   40.384               True  "
      ]
     },
     "execution_count": 5,
     "metadata": {},
     "output_type": "execute_result"
    }
   ],
   "source": [
    "# Display the first few rows of data\n",
    "shootings.head(5)\n"
   ]
  },
  {
   "cell_type": "markdown",
   "metadata": {},
   "source": [
    "***"
   ]
  },
  {
   "cell_type": "markdown",
   "metadata": {},
   "source": [
    "## Exploring the Number of Shootings per Year in the US\n",
    "\n",
    "Here we will look at the statistics for fatal police shootings throughout the United States from 2015 - 2020.\n"
   ]
  },
  {
   "cell_type": "code",
   "execution_count": 6,
   "metadata": {
    "cell_style": "center"
   },
   "outputs": [],
   "source": [
    "# Extract only the year from the date and add to a new column in the df\n",
    "shootings['year'] = shootings['date'].str.extract(r'(\\d{4})')"
   ]
  },
  {
   "cell_type": "code",
   "execution_count": 7,
   "metadata": {
    "cell_style": "split",
    "scrolled": true
   },
   "outputs": [
    {
     "data": {
      "text/html": [
       "<div>\n",
       "<style scoped>\n",
       "    .dataframe tbody tr th:only-of-type {\n",
       "        vertical-align: middle;\n",
       "    }\n",
       "\n",
       "    .dataframe tbody tr th {\n",
       "        vertical-align: top;\n",
       "    }\n",
       "\n",
       "    .dataframe thead th {\n",
       "        text-align: right;\n",
       "    }\n",
       "</style>\n",
       "<table border=\"1\" class=\"dataframe\">\n",
       "  <thead>\n",
       "    <tr style=\"text-align: right;\">\n",
       "      <th></th>\n",
       "      <th>year</th>\n",
       "    </tr>\n",
       "  </thead>\n",
       "  <tbody>\n",
       "    <tr>\n",
       "      <th>count</th>\n",
       "      <td>6.000000</td>\n",
       "    </tr>\n",
       "    <tr>\n",
       "      <th>mean</th>\n",
       "      <td>942.000000</td>\n",
       "    </tr>\n",
       "    <tr>\n",
       "      <th>std</th>\n",
       "      <td>109.026602</td>\n",
       "    </tr>\n",
       "    <tr>\n",
       "      <th>min</th>\n",
       "      <td>721.000000</td>\n",
       "    </tr>\n",
       "    <tr>\n",
       "      <th>25%</th>\n",
       "      <td>968.000000</td>\n",
       "    </tr>\n",
       "    <tr>\n",
       "      <th>50%</th>\n",
       "      <td>988.000000</td>\n",
       "    </tr>\n",
       "    <tr>\n",
       "      <th>75%</th>\n",
       "      <td>993.000000</td>\n",
       "    </tr>\n",
       "    <tr>\n",
       "      <th>max</th>\n",
       "      <td>999.000000</td>\n",
       "    </tr>\n",
       "  </tbody>\n",
       "</table>\n",
       "</div>"
      ],
      "text/plain": [
       "             year\n",
       "count    6.000000\n",
       "mean   942.000000\n",
       "std    109.026602\n",
       "min    721.000000\n",
       "25%    968.000000\n",
       "50%    988.000000\n",
       "75%    993.000000\n",
       "max    999.000000"
      ]
     },
     "execution_count": 7,
     "metadata": {},
     "output_type": "execute_result"
    }
   ],
   "source": [
    "# Run descriptive stats\n",
    "shoot_stats = pd.DataFrame(shootings['year'].value_counts().sort_index().describe())\n",
    "shoot_stats"
   ]
  },
  {
   "cell_type": "code",
   "execution_count": 8,
   "metadata": {
    "cell_style": "split"
   },
   "outputs": [
    {
     "data": {
      "text/plain": [
       "Text(0.5, 1.0, 'Number of Shootings in the US Per Year')"
      ]
     },
     "execution_count": 8,
     "metadata": {},
     "output_type": "execute_result"
    },
    {
     "data": {
      "image/png": "[encoded data removed]",
      "text/plain": [
       "<Figure size 576x216 with 1 Axes>"
      ]
     },
     "metadata": {},
     "output_type": "display_data"
    }
   ],
   "source": [
    "# Create a box plot\n",
    "sns.set_style(style='darkgrid')\n",
    "fig, ax = plt.subplots(figsize=(8,3))\n",
    "sns.boxplot(ax=ax,data=shootings['year'].value_counts().sort_index(),orient='h',linewidth=3)\n",
    "plt.title('Number of Shootings in the US Per Year',fontsize=13)"
   ]
  },
  {
   "cell_type": "markdown",
   "metadata": {},
   "source": [
    "From the information above we see that on average 942 people are fatally shot by the police each year in the US. Since the year 2020 is not yet complete this number has been skewed left. Looking at the boxplot, which has a median of 988, we can see that the majority of the distribuition lies between 950 and 1000 cases.\n",
    "\n",
    "When considering the population of the US which is about 328.2 million (as of 2019), 900 - 1,0000 fatal shootings does not seem significant. In fact that accounts for about 0.00030% of the population. It is true that the likelyhood of being fatally shot by the police in general is very small. \n",
    "\n",
    "However, we can see that does not really say much about whether or not minorites are shot by police more often.\n",
    "***\n"
   ]
  },
  {
   "cell_type": "markdown",
   "metadata": {},
   "source": [
    "## Exploring Fatal Police Shootings By Race\n",
    "\n",
    "Above we discovered that the average person has a small chance of being fatally shot by the police.\n",
    "\n",
    "However, if there are groups of people fatally shot by the police more often than one group, say the majority, then it is evident that there is a bias causing injustice. As we mentioned one of the ways this can happen is through racial prejudice or bias. We want to explore how people of different races compared to those that are white are fatally shot by the police in the US. \n"
   ]
  },
  {
   "cell_type": "markdown",
   "metadata": {},
   "source": [
    "### Missing Data"
   ]
  },
  {
   "cell_type": "code",
   "execution_count": 9,
   "metadata": {},
   "outputs": [
    {
     "data": {
      "text/plain": [
       "W    2576\n",
       "B    1337\n",
       "H     936\n",
       "      583\n",
       "A      93\n",
       "N      80\n",
       "O      47\n",
       "Name: race, dtype: int64"
      ]
     },
     "execution_count": 9,
     "metadata": {},
     "output_type": "execute_result"
    }
   ],
   "source": [
    "# Count the number of missing values in the race column\n",
    "shootings['race'].value_counts(dropna=False)\n"
   ]
  },
  {
   "cell_type": "markdown",
   "metadata": {},
   "source": [
    "We have missing values in the form of an empty string instead of nan values. There is no easy way to find the missing races for each person, so we will drop these observations from the dataset."
   ]
  },
  {
   "cell_type": "code",
   "execution_count": 10,
   "metadata": {},
   "outputs": [],
   "source": [
    "# Drop observations with missing race\n",
    "shootings = shootings[shootings['race'] != \"\"]"
   ]
  },
  {
   "cell_type": "code",
   "execution_count": 11,
   "metadata": {},
   "outputs": [
    {
     "data": {
      "text/plain": [
       "W    2576\n",
       "B    1337\n",
       "H     936\n",
       "A      93\n",
       "N      80\n",
       "O      47\n",
       "Name: race, dtype: int64"
      ]
     },
     "execution_count": 11,
     "metadata": {},
     "output_type": "execute_result"
    }
   ],
   "source": [
    "# Check again for missing values\n",
    "shootings['race'].value_counts()"
   ]
  },
  {
   "cell_type": "markdown",
   "metadata": {},
   "source": [
    "### Create Race Columns"
   ]
  },
  {
   "cell_type": "code",
   "execution_count": 12,
   "metadata": {},
   "outputs": [],
   "source": [
    "# Create list of race strings\n",
    "races = ['W','B','N','A','O','H']\n",
    "\n",
    "# Write function to add a column for each race\n",
    "def race_sort(race):\n",
    "    shootings[race] = shootings['race'].apply(lambda r:1 if r==race else 0)\n",
    "    return\n",
    "\n",
    "# Add col for each race the list to the df\n",
    "for race in races:\n",
    "    race_sort(race)"
   ]
  },
  {
   "cell_type": "markdown",
   "metadata": {},
   "source": [
    "## Looking at the Number of Incidents Alone\n"
   ]
  },
  {
   "cell_type": "markdown",
   "metadata": {},
   "source": [
    "### Distribution of shootings by race in the US\n",
    "\n",
    "Here we chart the proportion of fatal police shootings by race in the US from 2015-2020."
   ]
  },
  {
   "cell_type": "code",
   "execution_count": 13,
   "metadata": {
    "cell_style": "center"
   },
   "outputs": [
    {
     "data": {
      "text/plain": [
       "Text(0, 0.5, 'Proportion')"
      ]
     },
     "execution_count": 13,
     "metadata": {},
     "output_type": "execute_result"
    },
    {
     "data": {
      "image/png": "[encoded data removed]",
      "text/plain": [
       "<Figure size 432x288 with 1 Axes>"
      ]
     },
     "metadata": {},
     "output_type": "display_data"
    }
   ],
   "source": [
    "# Plot the proportions of shootings for each race\n",
    "shootings['race'].value_counts(normalize=True).plot.bar(edgecolor='k',rot=0)\n",
    "plt.title('Fatal Police Shootings By Race',fontsize=14)\n",
    "plt.xlabel('Race',fontsize=12)\n",
    "plt.ylabel('Proportion',fontsize=12)\n"
   ]
  },
  {
   "cell_type": "code",
   "execution_count": 14,
   "metadata": {
    "cell_style": "center"
   },
   "outputs": [
    {
     "data": {
      "text/plain": [
       "W    0.508187\n",
       "B    0.263760\n",
       "H    0.184652\n",
       "A    0.018347\n",
       "N    0.015782\n",
       "O    0.009272\n",
       "Name: race, dtype: float64"
      ]
     },
     "execution_count": 14,
     "metadata": {},
     "output_type": "execute_result"
    }
   ],
   "source": [
    "shootings['race'].value_counts(normalize=True)"
   ]
  },
  {
   "cell_type": "markdown",
   "metadata": {},
   "source": [
    "From the chart above we see that the majority of incidents involved white people (45%), followed by black (23%) and hispanic (16%).\n",
    "\n",
    "There were literally more counts of white people fatally shot by the police in the US from 2015-2020, however that does not mean that minorities are not killed by the police disproportionately. We need to account for the population demographics in each state and use proportions in order to see whether this is true."
   ]
  },
  {
   "cell_type": "markdown",
   "metadata": {},
   "source": [
    "## Accounting for Population Data\n",
    "\n",
    "The population for each racial minority differs between states, and is often significantly less than the white population. To determine whether or not minorities are shot and killed more by police, we need to adjust the proportions for each race to the respective populations."
   ]
  },
  {
   "cell_type": "markdown",
   "metadata": {},
   "source": [
    "### Cleaning the Data\n",
    "\n",
    "To keep our code concise, we will read in each file as a dataframe and store each dataframe in a dictionary."
   ]
  },
  {
   "cell_type": "code",
   "execution_count": 15,
   "metadata": {},
   "outputs": [],
   "source": [
    "# Read each file as a df and store in a dictionary\n",
    "pop_data = {}\n",
    "for i in range(5,9):\n",
    "    key = 'race_201{}'.format(i)\n",
    "    file = pd.read_csv('race-population-2015-2018/race_201{}.csv'.format(i))\n",
    "    pop_data[key] = file"
   ]
  },
  {
   "cell_type": "code",
   "execution_count": 16,
   "metadata": {},
   "outputs": [
    {
     "data": {
      "text/html": [
       "<div>\n",
       "<style scoped>\n",
       "    .dataframe tbody tr th:only-of-type {\n",
       "        vertical-align: middle;\n",
       "    }\n",
       "\n",
       "    .dataframe tbody tr th {\n",
       "        vertical-align: top;\n",
       "    }\n",
       "\n",
       "    .dataframe thead th {\n",
       "        text-align: right;\n",
       "    }\n",
       "</style>\n",
       "<table border=\"1\" class=\"dataframe\">\n",
       "  <thead>\n",
       "    <tr style=\"text-align: right;\">\n",
       "      <th></th>\n",
       "      <th>GEO_ID</th>\n",
       "      <th>NAME</th>\n",
       "      <th>B03002_001E</th>\n",
       "      <th>B03002_001M</th>\n",
       "      <th>B03002_002E</th>\n",
       "      <th>B03002_002M</th>\n",
       "      <th>B03002_003E</th>\n",
       "      <th>B03002_003M</th>\n",
       "      <th>B03002_004E</th>\n",
       "      <th>B03002_004M</th>\n",
       "      <th>...</th>\n",
       "      <th>B03002_017E</th>\n",
       "      <th>B03002_017M</th>\n",
       "      <th>B03002_018E</th>\n",
       "      <th>B03002_018M</th>\n",
       "      <th>B03002_019E</th>\n",
       "      <th>B03002_019M</th>\n",
       "      <th>B03002_020E</th>\n",
       "      <th>B03002_020M</th>\n",
       "      <th>B03002_021E</th>\n",
       "      <th>B03002_021M</th>\n",
       "    </tr>\n",
       "  </thead>\n",
       "  <tbody>\n",
       "    <tr>\n",
       "      <th>0</th>\n",
       "      <td>id</td>\n",
       "      <td>Geographic Area Name</td>\n",
       "      <td>Estimate!!Total</td>\n",
       "      <td>Margin of Error!!Total</td>\n",
       "      <td>Estimate!!Total!!Not Hispanic or Latino</td>\n",
       "      <td>Margin of Error!!Total!!Not Hispanic or Latino</td>\n",
       "      <td>Estimate!!Total!!Not Hispanic or Latino!!White...</td>\n",
       "      <td>Margin of Error!!Total!!Not Hispanic or Latino...</td>\n",
       "      <td>Estimate!!Total!!Not Hispanic or Latino!!Black...</td>\n",
       "      <td>Margin of Error!!Total!!Not Hispanic or Latino...</td>\n",
       "      <td>...</td>\n",
       "      <td>Estimate!!Total!!Hispanic or Latino!!Native Ha...</td>\n",
       "      <td>Margin of Error!!Total!!Hispanic or Latino!!Na...</td>\n",
       "      <td>Estimate!!Total!!Hispanic or Latino!!Some othe...</td>\n",
       "      <td>Margin of Error!!Total!!Hispanic or Latino!!So...</td>\n",
       "      <td>Estimate!!Total!!Hispanic or Latino!!Two or mo...</td>\n",
       "      <td>Margin of Error!!Total!!Hispanic or Latino!!Tw...</td>\n",
       "      <td>Estimate!!Total!!Hispanic or Latino!!Two or mo...</td>\n",
       "      <td>Margin of Error!!Total!!Hispanic or Latino!!Tw...</td>\n",
       "      <td>Estimate!!Total!!Hispanic or Latino!!Two or mo...</td>\n",
       "      <td>Margin of Error!!Total!!Hispanic or Latino!!Tw...</td>\n",
       "    </tr>\n",
       "    <tr>\n",
       "      <th>1</th>\n",
       "      <td>0400000US01</td>\n",
       "      <td>Alabama</td>\n",
       "      <td>4858979</td>\n",
       "      <td>*****</td>\n",
       "      <td>4666109</td>\n",
       "      <td>2261</td>\n",
       "      <td>3204076</td>\n",
       "      <td>917</td>\n",
       "      <td>1296681</td>\n",
       "      <td>5680</td>\n",
       "      <td>...</td>\n",
       "      <td>1882</td>\n",
       "      <td>2318</td>\n",
       "      <td>48515</td>\n",
       "      <td>5710</td>\n",
       "      <td>8110</td>\n",
       "      <td>1950</td>\n",
       "      <td>5195</td>\n",
       "      <td>1566</td>\n",
       "      <td>2915</td>\n",
       "      <td>1203</td>\n",
       "    </tr>\n",
       "    <tr>\n",
       "      <th>2</th>\n",
       "      <td>0400000US02</td>\n",
       "      <td>Alaska</td>\n",
       "      <td>738432</td>\n",
       "      <td>*****</td>\n",
       "      <td>686607</td>\n",
       "      <td>*****</td>\n",
       "      <td>452472</td>\n",
       "      <td>1051</td>\n",
       "      <td>24739</td>\n",
       "      <td>1714</td>\n",
       "      <td>...</td>\n",
       "      <td>421</td>\n",
       "      <td>535</td>\n",
       "      <td>10266</td>\n",
       "      <td>2609</td>\n",
       "      <td>6484</td>\n",
       "      <td>2003</td>\n",
       "      <td>2581</td>\n",
       "      <td>1372</td>\n",
       "      <td>3903</td>\n",
       "      <td>1408</td>\n",
       "    </tr>\n",
       "    <tr>\n",
       "      <th>3</th>\n",
       "      <td>0400000US04</td>\n",
       "      <td>Arizona</td>\n",
       "      <td>6828065</td>\n",
       "      <td>*****</td>\n",
       "      <td>4729654</td>\n",
       "      <td>*****</td>\n",
       "      <td>3802263</td>\n",
       "      <td>2149</td>\n",
       "      <td>282718</td>\n",
       "      <td>5805</td>\n",
       "      <td>...</td>\n",
       "      <td>1321</td>\n",
       "      <td>616</td>\n",
       "      <td>474680</td>\n",
       "      <td>21301</td>\n",
       "      <td>81741</td>\n",
       "      <td>6271</td>\n",
       "      <td>41490</td>\n",
       "      <td>4856</td>\n",
       "      <td>40251</td>\n",
       "      <td>4409</td>\n",
       "    </tr>\n",
       "    <tr>\n",
       "      <th>4</th>\n",
       "      <td>0400000US05</td>\n",
       "      <td>Arkansas</td>\n",
       "      <td>2978204</td>\n",
       "      <td>*****</td>\n",
       "      <td>2770461</td>\n",
       "      <td>2071</td>\n",
       "      <td>2174934</td>\n",
       "      <td>1792</td>\n",
       "      <td>466486</td>\n",
       "      <td>4815</td>\n",
       "      <td>...</td>\n",
       "      <td>88</td>\n",
       "      <td>155</td>\n",
       "      <td>61716</td>\n",
       "      <td>6080</td>\n",
       "      <td>6709</td>\n",
       "      <td>1911</td>\n",
       "      <td>4270</td>\n",
       "      <td>1489</td>\n",
       "      <td>2439</td>\n",
       "      <td>1104</td>\n",
       "    </tr>\n",
       "  </tbody>\n",
       "</table>\n",
       "<p>5 rows × 44 columns</p>\n",
       "</div>"
      ],
      "text/plain": [
       "        GEO_ID                  NAME      B03002_001E             B03002_001M  \\\n",
       "0           id  Geographic Area Name  Estimate!!Total  Margin of Error!!Total   \n",
       "1  0400000US01               Alabama          4858979                   *****   \n",
       "2  0400000US02                Alaska           738432                   *****   \n",
       "3  0400000US04               Arizona          6828065                   *****   \n",
       "4  0400000US05              Arkansas          2978204                   *****   \n",
       "\n",
       "                               B03002_002E  \\\n",
       "0  Estimate!!Total!!Not Hispanic or Latino   \n",
       "1                                  4666109   \n",
       "2                                   686607   \n",
       "3                                  4729654   \n",
       "4                                  2770461   \n",
       "\n",
       "                                      B03002_002M  \\\n",
       "0  Margin of Error!!Total!!Not Hispanic or Latino   \n",
       "1                                            2261   \n",
       "2                                           *****   \n",
       "3                                           *****   \n",
       "4                                            2071   \n",
       "\n",
       "                                         B03002_003E  \\\n",
       "0  Estimate!!Total!!Not Hispanic or Latino!!White...   \n",
       "1                                            3204076   \n",
       "2                                             452472   \n",
       "3                                            3802263   \n",
       "4                                            2174934   \n",
       "\n",
       "                                         B03002_003M  \\\n",
       "0  Margin of Error!!Total!!Not Hispanic or Latino...   \n",
       "1                                                917   \n",
       "2                                               1051   \n",
       "3                                               2149   \n",
       "4                                               1792   \n",
       "\n",
       "                                         B03002_004E  \\\n",
       "0  Estimate!!Total!!Not Hispanic or Latino!!Black...   \n",
       "1                                            1296681   \n",
       "2                                              24739   \n",
       "3                                             282718   \n",
       "4                                             466486   \n",
       "\n",
       "                                         B03002_004M  ...  \\\n",
       "0  Margin of Error!!Total!!Not Hispanic or Latino...  ...   \n",
       "1                                               5680  ...   \n",
       "2                                               1714  ...   \n",
       "3                                               5805  ...   \n",
       "4                                               4815  ...   \n",
       "\n",
       "                                         B03002_017E  \\\n",
       "0  Estimate!!Total!!Hispanic or Latino!!Native Ha...   \n",
       "1                                               1882   \n",
       "2                                                421   \n",
       "3                                               1321   \n",
       "4                                                 88   \n",
       "\n",
       "                                         B03002_017M  \\\n",
       "0  Margin of Error!!Total!!Hispanic or Latino!!Na...   \n",
       "1                                               2318   \n",
       "2                                                535   \n",
       "3                                                616   \n",
       "4                                                155   \n",
       "\n",
       "                                         B03002_018E  \\\n",
       "0  Estimate!!Total!!Hispanic or Latino!!Some othe...   \n",
       "1                                              48515   \n",
       "2                                              10266   \n",
       "3                                             474680   \n",
       "4                                              61716   \n",
       "\n",
       "                                         B03002_018M  \\\n",
       "0  Margin of Error!!Total!!Hispanic or Latino!!So...   \n",
       "1                                               5710   \n",
       "2                                               2609   \n",
       "3                                              21301   \n",
       "4                                               6080   \n",
       "\n",
       "                                         B03002_019E  \\\n",
       "0  Estimate!!Total!!Hispanic or Latino!!Two or mo...   \n",
       "1                                               8110   \n",
       "2                                               6484   \n",
       "3                                              81741   \n",
       "4                                               6709   \n",
       "\n",
       "                                         B03002_019M  \\\n",
       "0  Margin of Error!!Total!!Hispanic or Latino!!Tw...   \n",
       "1                                               1950   \n",
       "2                                               2003   \n",
       "3                                               6271   \n",
       "4                                               1911   \n",
       "\n",
       "                                         B03002_020E  \\\n",
       "0  Estimate!!Total!!Hispanic or Latino!!Two or mo...   \n",
       "1                                               5195   \n",
       "2                                               2581   \n",
       "3                                              41490   \n",
       "4                                               4270   \n",
       "\n",
       "                                         B03002_020M  \\\n",
       "0  Margin of Error!!Total!!Hispanic or Latino!!Tw...   \n",
       "1                                               1566   \n",
       "2                                               1372   \n",
       "3                                               4856   \n",
       "4                                               1489   \n",
       "\n",
       "                                         B03002_021E  \\\n",
       "0  Estimate!!Total!!Hispanic or Latino!!Two or mo...   \n",
       "1                                               2915   \n",
       "2                                               3903   \n",
       "3                                              40251   \n",
       "4                                               2439   \n",
       "\n",
       "                                         B03002_021M  \n",
       "0  Margin of Error!!Total!!Hispanic or Latino!!Tw...  \n",
       "1                                               1203  \n",
       "2                                               1408  \n",
       "3                                               4409  \n",
       "4                                               1104  \n",
       "\n",
       "[5 rows x 44 columns]"
      ]
     },
     "execution_count": 16,
     "metadata": {},
     "output_type": "execute_result"
    }
   ],
   "source": [
    "# Display some rows of a df\n",
    "pop_data['race_2015'].head(5)"
   ]
  },
  {
   "cell_type": "markdown",
   "metadata": {},
   "source": [
    "#### Functions to Clean the Data Sets"
   ]
  },
  {
   "cell_type": "code",
   "execution_count": 17,
   "metadata": {},
   "outputs": [],
   "source": [
    "def remove_cols(df):\n",
    "    \"\"\"Removes margin of error columns for a cencus df.\n",
    "        Drops columns with 3 digits and an M in label\n",
    "        \n",
    "    \"\"\"\n",
    "    labels = df.columns[df.columns.str.contains(r'\\d{3}M')]\n",
    "    df = df.drop(labels=labels,axis=1)\n",
    "    return df\n",
    "\n",
    "def clean_header(df):\n",
    "    \"\"\"Replaces header with clean one. Removes punctuation and \n",
    "        extra words from first row. Uses first row as header.\n",
    "    \"\"\"\n",
    "    row1 = df.iloc[0,:].str.replace('Estimate!!','').str.replace('!!',' ')\n",
    "    row1[4:] = row1[4:].str.replace('Total Not Hispanic or Latino','').str.replace('alone','')\n",
    "    df.columns = row1.str.strip()\n",
    "    df = df.iloc[1:,:]\n",
    "    return df\n",
    "\n",
    "def to_float(df):\n",
    "    \"\"\"Converts columns to float type.\n",
    "    \"\"\"\n",
    "    df.iloc[:,2:] = df.iloc[:,2:].astype(float)\n",
    "    return df\n",
    "\n",
    "def create_other_race_col(df):\n",
    "    \"\"\"Combines select races into an 'Other' column.\n",
    "    \"\"\"\n",
    "    df['Other'] = df['Native Hawaiian and Other Pacific Islander'] + df['Some other race']\n",
    "    return df\n",
    "\n",
    "def abbreviate_cols(df):\n",
    "    \"\"\"Renames columns of df to match shootings df column headings.\n",
    "    \"\"\"\n",
    "    pop_rename_cols = {'Geographic Area Name':'state',\\\n",
    "        'White':'W', 'Black or African American':'B',\\\n",
    "        'American Indian and Alaska Native':'N', 'Asian':'A',\\\n",
    "        'Other':'O','Total Hispanic or Latino':'H'}\n",
    "    df = df.rename(columns=pop_rename_cols)\n",
    "    return df\n",
    "\n",
    "def abbreviate_states(df):\n",
    "    \"\"\"Abbreviates state names in state column.\"\"\"\n",
    "    # Dictionary for state abbreviations\n",
    "    abbr_dict = {'Alabama':'AL', 'Alaska':'AK', 'Arizona':'AZ', 'Arkansas':'AR', 'California':'CA',\n",
    "       'Colorado':'CO', 'Connecticut':'CT', 'Delaware':'DE', 'District of Columbia':'DC',\n",
    "       'Florida':'FL', 'Georgia':'GA', 'Hawaii':'HI', 'Idaho':'ID', 'Illinois':'IL', 'Indiana':'IN',\n",
    "       'Iowa':'IA', 'Kansas':'KS', 'Kentucky':'KY', 'Louisiana':'LA', 'Maine':'ME', 'Maryland':'MD',\n",
    "       'Massachusetts':'MA', 'Michigan':'MI', 'Minnesota':'MN', 'Mississippi':'MS',\n",
    "       'Missouri':'MO', 'Montana':'MT', 'Nebraska':'NE', 'Nevada':'NV', 'New Hampshire':'NH',\n",
    "       'New Jersey':'NJ', 'New Mexico':'NM', 'New York':'NY', 'North Carolina':'NC',\n",
    "       'North Dakota':'ND', 'Ohio':'OH', 'Oklahoma':'OK', 'Oregon':'OR', 'Pennsylvania':'PA',\n",
    "       'Rhode Island':'RI', 'South Carolina':'SC', 'South Dakota':'SD', 'Tennessee':'TN',\n",
    "       'Texas':'TX', 'Utah':'UT', 'Vermont':'VT', 'Virginia':'VA', 'Washington':'WA',\n",
    "       'West Virginia':'WV', 'Wisconsin':'WI', 'Wyoming':'WY','Puerto Rico':'PR','United States':'US'}\n",
    "    df['state'] = df['state'].map(abbr_dict)\n",
    "    return df\n",
    "\n",
    "def sort_df_by_state(df):\n",
    "    \"\"\"Returns df sorted alphabetically by state abbreviation.\n",
    "    \"\"\"\n",
    "    df = df.sort_values(by='state').reset_index().drop('index',axis=1)\n",
    "    return df\n",
    "\n",
    "def select_cols(df):\n",
    "    \"\"\"Selects columns of interest.\n",
    "    \"\"\"\n",
    "    df = df[['Geographic Area Name',\\\n",
    "        'White', 'Black or African American',\\\n",
    "        'American Indian and Alaska Native', 'Asian',\\\n",
    "        'Other','Total Hispanic or Latino']]\n",
    "    return df\n",
    "\n",
    "def remove_non_state(df):\n",
    "    \"\"\"Removes Puerto Rico and United States from the df.\n",
    "    \"\"\"\n",
    "    df=df.loc[df['state']!='PR']\n",
    "    df = df.loc[df['state']!='US']\n",
    "    return df"
   ]
  },
  {
   "cell_type": "markdown",
   "metadata": {},
   "source": [
    "#### Cleaning the Datasets"
   ]
  },
  {
   "cell_type": "code",
   "execution_count": 18,
   "metadata": {},
   "outputs": [],
   "source": [
    "# Apply the functions above to each data frame in the dictionary pop_data\n",
    "for key in pop_data:\n",
    "    df = pop_data[key]\n",
    "    df = remove_cols(df)\n",
    "    df = clean_header(df)\n",
    "    df = to_float(df)\n",
    "    df = create_other_race_col(df)\n",
    "    df = select_cols(df)\n",
    "    df = abbreviate_cols(df)\n",
    "    df = abbreviate_states(df)\n",
    "    df = sort_df_by_state(df)\n",
    "    df = remove_non_state(df)\n",
    "    pop_data[key] = df"
   ]
  },
  {
   "cell_type": "markdown",
   "metadata": {},
   "source": [
    "### Taking the Average Population \n",
    "\n",
    "In order to have a good estimate of the population from 2015 to 2020 we will take the mean racial population from the census data above, which consists of the years 2015-2018. Using the mean will make it easier to estimate the ratio of whites to minorities that were shot and killed by the police."
   ]
  },
  {
   "cell_type": "code",
   "execution_count": 19,
   "metadata": {},
   "outputs": [],
   "source": [
    "def make_pop_mean(dictionary):\n",
    "    \"\"\"Creates dataframe with average population of each race per state.\n",
    "    \n",
    "        Args: \n",
    "            dictionary (dict): The dictionary containing cencus df's for each year\n",
    "            \n",
    "        Returns:\n",
    "            pop_mean (dataframe): Df containing mean populations and state index.\n",
    "    \"\"\"\n",
    "    pop_mean = pd.DataFrame()\n",
    "    state_idx = dictionary[list(dictionary)[0]]['state']\n",
    "    for race in races:\n",
    "        temp_df = list()\n",
    "        for key in dictionary:\n",
    "            df = dictionary[key]\n",
    "            temp_df.append(df[race])\n",
    "        pop_mean['{}'.format(race)] = pd.DataFrame(temp_df).apply(np.mean)\n",
    "    pop_mean.set_index(keys=state_idx,inplace=True)\n",
    "    return pop_mean"
   ]
  },
  {
   "cell_type": "code",
   "execution_count": 20,
   "metadata": {},
   "outputs": [],
   "source": [
    "# Use function above to make the population mean dataframe\n",
    "pop_mean = make_pop_mean(pop_data)\n"
   ]
  },
  {
   "cell_type": "code",
   "execution_count": 21,
   "metadata": {},
   "outputs": [],
   "source": [
    "# Create dataframe of number of killings by race per state over years 2015 - Present\n",
    "race_killings = shootings.groupby('state').agg(sum)[races]"
   ]
  },
  {
   "cell_type": "markdown",
   "metadata": {},
   "source": [
    "### Filtering the Data \n",
    "For some states there are few reported incidents of fatal police shootings. Too few observations will skew the proportions of white to minority police killings unrealisitcally.\n",
    "\n",
    "For example, let's look at Rhode Island:"
   ]
  },
  {
   "cell_type": "code",
   "execution_count": 22,
   "metadata": {
    "cell_style": "center"
   },
   "outputs": [
    {
     "name": "stdout",
     "output_type": "stream",
     "text": [
      "Rhode Island Fatalities\n"
     ]
    },
    {
     "data": {
      "text/plain": [
       "W    1\n",
       "B    2\n",
       "N    0\n",
       "A    0\n",
       "O    0\n",
       "H    1\n",
       "Name: RI, dtype: int64"
      ]
     },
     "metadata": {},
     "output_type": "display_data"
    }
   ],
   "source": [
    "RI_shootings = race_killings.loc['RI']\n",
    "RI_pop = pop_mean.loc['RI']\n",
    "RI_inv_prop = RI_pop.W / RI_shootings.W\n",
    "RI_ratios = (RI_shootings / RI_pop) * RI_inv_prop\n",
    "print(\"Rhode Island Fatalities\")\n",
    "display(RI_shootings)\n"
   ]
  },
  {
   "cell_type": "code",
   "execution_count": 23,
   "metadata": {
    "cell_style": "split"
   },
   "outputs": [
    {
     "name": "stdout",
     "output_type": "stream",
     "text": [
      "Rhode Island Average Population per Race \n"
     ]
    },
    {
     "data": {
      "text/plain": [
       "W    765659.50\n",
       "B     58693.50\n",
       "N      3040.25\n",
       "A     36118.00\n",
       "O      8020.00\n",
       "H    160281.00\n",
       "Name: RI, dtype: float64"
      ]
     },
     "execution_count": 23,
     "metadata": {},
     "output_type": "execute_result"
    }
   ],
   "source": [
    "# Display RI pop\n",
    "print(\"Rhode Island Average Population per Race \")\n",
    "RI_pop"
   ]
  },
  {
   "cell_type": "code",
   "execution_count": 24,
   "metadata": {
    "cell_style": "split"
   },
   "outputs": [
    {
     "name": "stdout",
     "output_type": "stream",
     "text": [
      "Rhode Island Ratio of Minority to White Fatalities\n"
     ]
    },
    {
     "data": {
      "text/plain": [
       "W     1.000000\n",
       "B    26.090095\n",
       "N     0.000000\n",
       "A     0.000000\n",
       "O     0.000000\n",
       "H     4.776982\n",
       "Name: RI, dtype: float64"
      ]
     },
     "execution_count": 24,
     "metadata": {},
     "output_type": "execute_result"
    }
   ],
   "source": [
    "# Display RI ratios\n",
    "print(\"Rhode Island Ratio of Minority to White Fatalities\")\n",
    "RI_ratios"
   ]
  },
  {
   "cell_type": "markdown",
   "metadata": {},
   "source": [
    "We see that Rhode Island has only 4 cases and we know it is the least populated state in the US, which results in extreme ratios, e.g. 26 black people shot for every 1 white person in RI. \n",
    "\n",
    "There are not enough cases in RI to provide significant information. Therefore we will filter the datasets using a cutoff of 30 observations per state to provide significant results."
   ]
  },
  {
   "cell_type": "code",
   "execution_count": 25,
   "metadata": {},
   "outputs": [],
   "source": [
    "# Filter race killings to have only states with 30 or more cases\n",
    "sig_bool = (shootings['state'].value_counts()>=30).sort_index()\n",
    "race_killings_sig = race_killings[sig_bool]\n",
    "\n",
    "# Filter the mean population data too\n",
    "pop_mean_sig = pop_mean[sig_bool]"
   ]
  },
  {
   "cell_type": "markdown",
   "metadata": {},
   "source": [
    "### Calculating the White : Minority Ratio\n",
    "\n",
    "To compute this ratio we first note that there are unequal racial population sizes per state. We need to normalize the the data which we will do by simply computing the proportion, P, of people from each race that are fatally shot by the police per state:\n",
    "\n",
    "\n",
    "$$P_{race} = \\frac{Number\\ shot\\  in\\  race}{Population\\ of\\ race}$$ \n",
    "\n",
    "The ratios will be constructed by comparing the proportions mentioned above of white people shot to the proportions of minorities shot\n",
    "\n",
    "$$P_{white} : P_{race} $$\n",
    "\n",
    "and reducing them such that the white proportion is equal to 1:\n",
    "\n",
    "$$\\frac{1}{P_{white}} x \\Big(P_{white} :  P_{race}\\Big)\\ =\\ 1 : \\frac{P_{race}}{P_{white}}$$\n",
    "\n",
    "\n",
    "We then round $\\frac{P_{race}}{P_{white}}$ and get \n",
    "\n",
    "$$ 1 : R_{race}$$\n",
    "\n",
    "where R is the number of people from each race fatally shot by police for every one white person.\n",
    "\n"
   ]
  },
  {
   "cell_type": "code",
   "execution_count": 26,
   "metadata": {},
   "outputs": [],
   "source": [
    "# function to calculate the W:M ratio \n",
    "def calc_ratio(shoot_df, pop_df):\n",
    "    \"\"\"Computes White:Minority ratio.\n",
    "        \n",
    "        Args:\n",
    "            shoot_df (dataframe): Df containing number of cases by race per state\n",
    "            pop_df (dataframe): Df containing mean racial population per state\n",
    "            \n",
    "        Returns:\n",
    "            dataframe: Contains W:M ratios for each state\n",
    "    \"\"\"\n",
    "    ratios = (shoot_df / pop_df)\n",
    "    inv_prop = 1 / ratios.W\n",
    "    for col in ratios.columns:\n",
    "        ratios[col] = np.round(ratios[col] * inv_prop)\n",
    "    ratios = ratios.replace([np.inf,np.nan],0)\n",
    "    ratios = ratios.astype(int)\n",
    "    return ratios\n",
    "    "
   ]
  },
  {
   "cell_type": "code",
   "execution_count": 27,
   "metadata": {
    "scrolled": true
   },
   "outputs": [
    {
     "data": {
      "text/html": [
       "<div>\n",
       "<style scoped>\n",
       "    .dataframe tbody tr th:only-of-type {\n",
       "        vertical-align: middle;\n",
       "    }\n",
       "\n",
       "    .dataframe tbody tr th {\n",
       "        vertical-align: top;\n",
       "    }\n",
       "\n",
       "    .dataframe thead th {\n",
       "        text-align: right;\n",
       "    }\n",
       "</style>\n",
       "<table border=\"1\" class=\"dataframe\">\n",
       "  <thead>\n",
       "    <tr style=\"text-align: right;\">\n",
       "      <th></th>\n",
       "      <th>W</th>\n",
       "      <th>B</th>\n",
       "      <th>N</th>\n",
       "      <th>A</th>\n",
       "      <th>O</th>\n",
       "      <th>H</th>\n",
       "    </tr>\n",
       "    <tr>\n",
       "      <th>state</th>\n",
       "      <th></th>\n",
       "      <th></th>\n",
       "      <th></th>\n",
       "      <th></th>\n",
       "      <th></th>\n",
       "      <th></th>\n",
       "    </tr>\n",
       "  </thead>\n",
       "  <tbody>\n",
       "    <tr>\n",
       "      <th>AK</th>\n",
       "      <td>1</td>\n",
       "      <td>3</td>\n",
       "      <td>2</td>\n",
       "      <td>1</td>\n",
       "      <td>0</td>\n",
       "      <td>0</td>\n",
       "    </tr>\n",
       "    <tr>\n",
       "      <th>AL</th>\n",
       "      <td>1</td>\n",
       "      <td>1</td>\n",
       "      <td>0</td>\n",
       "      <td>0</td>\n",
       "      <td>0</td>\n",
       "      <td>0</td>\n",
       "    </tr>\n",
       "    <tr>\n",
       "      <th>AR</th>\n",
       "      <td>1</td>\n",
       "      <td>3</td>\n",
       "      <td>0</td>\n",
       "      <td>1</td>\n",
       "      <td>0</td>\n",
       "      <td>0</td>\n",
       "    </tr>\n",
       "    <tr>\n",
       "      <th>AZ</th>\n",
       "      <td>1</td>\n",
       "      <td>2</td>\n",
       "      <td>2</td>\n",
       "      <td>0</td>\n",
       "      <td>0</td>\n",
       "      <td>1</td>\n",
       "    </tr>\n",
       "    <tr>\n",
       "      <th>CA</th>\n",
       "      <td>1</td>\n",
       "      <td>4</td>\n",
       "      <td>2</td>\n",
       "      <td>0</td>\n",
       "      <td>2</td>\n",
       "      <td>1</td>\n",
       "    </tr>\n",
       "  </tbody>\n",
       "</table>\n",
       "</div>"
      ],
      "text/plain": [
       "       W  B  N  A  O  H\n",
       "state                  \n",
       "AK     1  3  2  1  0  0\n",
       "AL     1  1  0  0  0  0\n",
       "AR     1  3  0  1  0  0\n",
       "AZ     1  2  2  0  0  1\n",
       "CA     1  4  2  0  2  1"
      ]
     },
     "execution_count": 27,
     "metadata": {},
     "output_type": "execute_result"
    }
   ],
   "source": [
    "# Calculate the white to minority ratio for fatal police shootings W:M\n",
    "ratios = calc_ratio(race_killings_sig,pop_mean_sig)\n",
    "\n",
    "# Display first few rows of ratios dataframe\n",
    "ratios.head(5)\n"
   ]
  },
  {
   "cell_type": "markdown",
   "metadata": {},
   "source": [
    "The table above contains the number of people for each race fatally shot by the police for every 1 white person shot.\n",
    "For example, in Arkansas there are 3 black people fatally shot for 1 white person."
   ]
  },
  {
   "cell_type": "markdown",
   "metadata": {},
   "source": [
    "### Which Race Has the Highest Race:White Ratio?\n",
    "\n",
    "Clearly, there are states in the US in which ceratin racial minorities are disproportionately shot and killed by the police. We want to know which race has the highest ratio i.e. is killed the most throughout the country. To do this we will compute the descriptive statistics and make a box plot for each set of ratios."
   ]
  },
  {
   "cell_type": "code",
   "execution_count": 28,
   "metadata": {
    "cell_style": "split",
    "scrolled": true
   },
   "outputs": [
    {
     "data": {
      "text/html": [
       "<div>\n",
       "<style scoped>\n",
       "    .dataframe tbody tr th:only-of-type {\n",
       "        vertical-align: middle;\n",
       "    }\n",
       "\n",
       "    .dataframe tbody tr th {\n",
       "        vertical-align: top;\n",
       "    }\n",
       "\n",
       "    .dataframe thead th {\n",
       "        text-align: right;\n",
       "    }\n",
       "</style>\n",
       "<table border=\"1\" class=\"dataframe\">\n",
       "  <thead>\n",
       "    <tr style=\"text-align: right;\">\n",
       "      <th></th>\n",
       "      <th>W</th>\n",
       "      <th>B</th>\n",
       "      <th>N</th>\n",
       "      <th>A</th>\n",
       "      <th>O</th>\n",
       "      <th>H</th>\n",
       "    </tr>\n",
       "  </thead>\n",
       "  <tbody>\n",
       "    <tr>\n",
       "      <th>count</th>\n",
       "      <td>39.0</td>\n",
       "      <td>39.000000</td>\n",
       "      <td>39.000000</td>\n",
       "      <td>39.000000</td>\n",
       "      <td>39.000000</td>\n",
       "      <td>39.000000</td>\n",
       "    </tr>\n",
       "    <tr>\n",
       "      <th>mean</th>\n",
       "      <td>1.0</td>\n",
       "      <td>3.641026</td>\n",
       "      <td>1.564103</td>\n",
       "      <td>0.512821</td>\n",
       "      <td>2.384615</td>\n",
       "      <td>1.000000</td>\n",
       "    </tr>\n",
       "    <tr>\n",
       "      <th>std</th>\n",
       "      <td>0.0</td>\n",
       "      <td>2.288267</td>\n",
       "      <td>2.510975</td>\n",
       "      <td>0.720811</td>\n",
       "      <td>6.957069</td>\n",
       "      <td>0.725476</td>\n",
       "    </tr>\n",
       "    <tr>\n",
       "      <th>min</th>\n",
       "      <td>1.0</td>\n",
       "      <td>0.000000</td>\n",
       "      <td>0.000000</td>\n",
       "      <td>0.000000</td>\n",
       "      <td>0.000000</td>\n",
       "      <td>0.000000</td>\n",
       "    </tr>\n",
       "    <tr>\n",
       "      <th>25%</th>\n",
       "      <td>1.0</td>\n",
       "      <td>2.000000</td>\n",
       "      <td>0.000000</td>\n",
       "      <td>0.000000</td>\n",
       "      <td>0.000000</td>\n",
       "      <td>1.000000</td>\n",
       "    </tr>\n",
       "    <tr>\n",
       "      <th>50%</th>\n",
       "      <td>1.0</td>\n",
       "      <td>3.000000</td>\n",
       "      <td>0.000000</td>\n",
       "      <td>0.000000</td>\n",
       "      <td>0.000000</td>\n",
       "      <td>1.000000</td>\n",
       "    </tr>\n",
       "    <tr>\n",
       "      <th>75%</th>\n",
       "      <td>1.0</td>\n",
       "      <td>5.000000</td>\n",
       "      <td>2.000000</td>\n",
       "      <td>1.000000</td>\n",
       "      <td>2.000000</td>\n",
       "      <td>1.000000</td>\n",
       "    </tr>\n",
       "    <tr>\n",
       "      <th>max</th>\n",
       "      <td>1.0</td>\n",
       "      <td>11.000000</td>\n",
       "      <td>9.000000</td>\n",
       "      <td>3.000000</td>\n",
       "      <td>41.000000</td>\n",
       "      <td>3.000000</td>\n",
       "    </tr>\n",
       "  </tbody>\n",
       "</table>\n",
       "</div>"
      ],
      "text/plain": [
       "          W          B          N          A          O          H\n",
       "count  39.0  39.000000  39.000000  39.000000  39.000000  39.000000\n",
       "mean    1.0   3.641026   1.564103   0.512821   2.384615   1.000000\n",
       "std     0.0   2.288267   2.510975   0.720811   6.957069   0.725476\n",
       "min     1.0   0.000000   0.000000   0.000000   0.000000   0.000000\n",
       "25%     1.0   2.000000   0.000000   0.000000   0.000000   1.000000\n",
       "50%     1.0   3.000000   0.000000   0.000000   0.000000   1.000000\n",
       "75%     1.0   5.000000   2.000000   1.000000   2.000000   1.000000\n",
       "max     1.0  11.000000   9.000000   3.000000  41.000000   3.000000"
      ]
     },
     "metadata": {},
     "output_type": "display_data"
    }
   ],
   "source": [
    "# Descriptive stats for the ratios\n",
    "#\n",
    "#\n",
    "#\n",
    "#\n",
    "display(ratios.describe())"
   ]
  },
  {
   "cell_type": "code",
   "execution_count": 29,
   "metadata": {
    "cell_style": "split",
    "scrolled": true
   },
   "outputs": [
    {
     "data": {
      "text/plain": [
       "Text(0, 0.5, 'Race')"
      ]
     },
     "execution_count": 29,
     "metadata": {},
     "output_type": "execute_result"
    },
    {
     "data": {
      "image/png": "[encoded data removed]",
      "text/plain": [
       "<Figure size 576x360 with 1 Axes>"
      ]
     },
     "metadata": {},
     "output_type": "display_data"
    }
   ],
   "source": [
    "# Make box plots excluding outliers \n",
    "fig, ax = plt.subplots(figsize=(8,5))\n",
    "sns.boxplot(ax=ax,data=ratios,orient='h',width=0.9,showfliers=False)\n",
    "plt.title('Non White to White Ratio of People Fatally Shot By Police',fontsize=14)\n",
    "plt.xlabel('Ratio',fontsize=13)\n",
    "plt.ylabel('Race',fontsize=13)"
   ]
  },
  {
   "cell_type": "markdown",
   "metadata": {},
   "source": [
    "From the stats above we see that black people are fatally shot by the police more than any other race. The white:black ratio distribution is less skewed with most of the values falling between 2 and 5. \n",
    "\n",
    "Interstingly, for hispanics we see that on average the ratio is 1:1, which means that there is not really a disproportion in fatal police shootings between hispanics and whites.\n",
    "\n",
    "The ratios for the other races have a median of 0 and are heavily right skewed, which shows that for some states these races are fatally shot by police more than white people, but on average white people are killed more. "
   ]
  },
  {
   "cell_type": "markdown",
   "metadata": {},
   "source": [
    "## Which States Are the Worst?\n",
    "\n",
    "To answer this question we plotted side by side the 10 states with the greatest number of fatal police shootings for each race and the 10 states with the greatest ratios."
   ]
  },
  {
   "cell_type": "code",
   "execution_count": 30,
   "metadata": {
    "scrolled": false
   },
   "outputs": [
    {
     "data": {
      "image/png": "[encoded data removed]",
      "text/plain": [
       "<Figure size 1440x1800 with 10 Axes>"
      ]
     },
     "metadata": {},
     "output_type": "display_data"
    }
   ],
   "source": [
    "# Create a figure with subplots\n",
    "fig, axes = plt.subplots(nrows=5, ncols=2,figsize = (20,25))\n",
    "\n",
    "colors = ['C{}'.format(i) for i in range(1,6)]\n",
    "title_labels = ['Blacks','Native Americans','Asians','Other Races','Hispanics']\n",
    "\n",
    "for i in range(0,5):\n",
    "    for j in range(1):\n",
    "        race_killings[races[i+1]].sort_values(ascending=True).tail(10).plot.barh(title=\\\n",
    "        'States With Most Fatal Police Shootings of {}'.format(title_labels[i]), color=colors[i],edgecolor='k',ax=axes[i,j]) \n",
    "    for k in range(1,2):\n",
    "        ratios[races[i+1]].sort_values(ascending=True).tail(10).plot.barh(title=\\\n",
    "                'State With Highest {}:W Ratio'.format(races[i+1]),color=colors[i],edgecolor='k',ax=axes[i,k])\n"
   ]
  },
  {
   "cell_type": "markdown",
   "metadata": {},
   "source": [
    "We see that California is among the top ten for all races when counting the number of shootings. However, CA is not in the ten states with the highest ratios for any race. This is probably due to the fact that California is the most populated state in the US and one of the most diverse. \n",
    "\n",
    "The number of cases alone only tells us part of the story, and in this case it shows us that states with higher populations, especially minority populations, will have higher incidences of fatal police encounters.  \n",
    "\n",
    "Using adjusted proportions from the cencus data allows us to see where the problem is most prevalent. For example we see that the state of Utah has the highest B:W ratio 12:1. Additionally, Minnesota has the highest N:W ratio (9:1), West Virginia has the highest A:W ratio (3:1), and Massachusets has the highest H:W ratio (3:1). \n",
    "\n",
    "The purpose of this analysis is not to pick on any one state, but rather to show that the disproportion between fatal police shootings of minorites and those of white people is a real phenomenon and that there are areas in the country that are worse than others."
   ]
  },
  {
   "cell_type": "markdown",
   "metadata": {},
   "source": [
    "## Attacking vs Not Attacking Police\n",
    "\n",
    "Part of the data collected by the Washington Post inclues a __threat_level__ column that indicates whether or not the person killed by police attacked them first. We want to explore how many of these people attacked police."
   ]
  },
  {
   "cell_type": "markdown",
   "metadata": {},
   "source": [
    "### How Many People Attacked Police Overall?\n",
    "\n",
    "To answer this question we will first take a look at the data in the __threat_level__ column."
   ]
  },
  {
   "cell_type": "code",
   "execution_count": 31,
   "metadata": {},
   "outputs": [
    {
     "data": {
      "text/plain": [
       "attack          3270\n",
       "other           1584\n",
       "undetermined     215\n",
       "Name: threat_level, dtype: int64"
      ]
     },
     "execution_count": 31,
     "metadata": {},
     "output_type": "execute_result"
    }
   ],
   "source": [
    "# Count the unique values in this column\n",
    "shootings['threat_level'].value_counts(dropna=False)"
   ]
  },
  {
   "cell_type": "markdown",
   "metadata": {},
   "source": [
    "We see that the values in this column are 'attack', 'other', or 'undetermined'. Below we will categorize these values as either True, the person attacked, or False, the person did not attack. Those that fall under 'other' or 'undetermined' will labeled as False because it is not clear that they attakced police."
   ]
  },
  {
   "cell_type": "code",
   "execution_count": 32,
   "metadata": {},
   "outputs": [
    {
     "data": {
      "text/plain": [
       "True     0.645098\n",
       "False    0.354902\n",
       "Name: attacked, dtype: float64"
      ]
     },
     "metadata": {},
     "output_type": "display_data"
    },
    {
     "data": {
      "image/png": "[encoded data removed]",
      "text/plain": [
       "<Figure size 432x288 with 1 Axes>"
      ]
     },
     "metadata": {},
     "output_type": "display_data"
    }
   ],
   "source": [
    "# Create dictionary to map values to booleans\n",
    "attack_map = {'attack':True,'other':False,'undetermined':False}\n",
    "\n",
    "# Apply the map to the threat level column and add to df as attacked column\n",
    "shootings['attacked'] = shootings['threat_level'].map(attack_map)\n",
    "\n",
    "# Plot the percentage distribution\n",
    "shootings['attacked'].value_counts(normalize=True).plot.pie(autopct='%.2f',fontsize=12)\n",
    "plt.title('Proportion of People That Attacked Police Prior to Being Fatally Shot',fontsize=12)\n",
    "display(shootings.attacked.value_counts(normalize=True))\n"
   ]
  },
  {
   "cell_type": "markdown",
   "metadata": {},
   "source": [
    "We see that about 65% of people fatally shot by the police from 2015-2020 were reported to have attacked the police before being fatally shot. "
   ]
  },
  {
   "cell_type": "markdown",
   "metadata": {},
   "source": [
    "### Attacks Based On Race\n",
    "\n",
    "\n",
    "Now we want to see the proprotion of each race that attacked police."
   ]
  },
  {
   "cell_type": "code",
   "execution_count": 33,
   "metadata": {},
   "outputs": [],
   "source": [
    "# Sort attacks by race\n",
    "race_attacks = shootings.pivot_table(index='attacked',values=races,aggfunc=sum,margins=True)\n",
    "\n",
    "# Compute the percentage and convert to dataframe\n",
    "percent_attack = pd.DataFrame()\n",
    "percent_attack['attack'] = round(race_attacks.iloc[1,:] / race_attacks.iloc[2,:]*100)\n",
    "\n",
    "# Add percent of no attacks to df\n",
    "percent_attack['no_attack'] = round(race_attacks.iloc[0,:] / race_attacks.iloc[2,:]*100)"
   ]
  },
  {
   "cell_type": "code",
   "execution_count": 34,
   "metadata": {
    "cell_style": "split"
   },
   "outputs": [
    {
     "data": {
      "text/plain": [
       "<matplotlib.lines.Line2D at 0x11e73b610>"
      ]
     },
     "execution_count": 34,
     "metadata": {},
     "output_type": "execute_result"
    },
    {
     "data": {
      "image/png": "[encoded data removed]",
      "text/plain": [
       "<Figure size 432x288 with 1 Axes>"
      ]
     },
     "metadata": {},
     "output_type": "display_data"
    }
   ],
   "source": [
    "#Plot the bar chart\n",
    "percent_attack.plot.bar(stacked=True,rot=360,title='Percentage of Attacks By Race',edgecolor='k').set_ylabel('Percent')\n",
    "plt.legend(loc='center left', bbox_to_anchor=(1.0, 0.5))\n",
    "plt.axhline(66,color='k')"
   ]
  },
  {
   "cell_type": "code",
   "execution_count": 35,
   "metadata": {
    "cell_style": "split"
   },
   "outputs": [
    {
     "data": {
      "text/html": [
       "<div>\n",
       "<style scoped>\n",
       "    .dataframe tbody tr th:only-of-type {\n",
       "        vertical-align: middle;\n",
       "    }\n",
       "\n",
       "    .dataframe tbody tr th {\n",
       "        vertical-align: top;\n",
       "    }\n",
       "\n",
       "    .dataframe thead th {\n",
       "        text-align: right;\n",
       "    }\n",
       "</style>\n",
       "<table border=\"1\" class=\"dataframe\">\n",
       "  <thead>\n",
       "    <tr style=\"text-align: right;\">\n",
       "      <th></th>\n",
       "      <th>attack</th>\n",
       "      <th>no_attack</th>\n",
       "    </tr>\n",
       "  </thead>\n",
       "  <tbody>\n",
       "    <tr>\n",
       "      <th>A</th>\n",
       "      <td>55.0</td>\n",
       "      <td>45.0</td>\n",
       "    </tr>\n",
       "    <tr>\n",
       "      <th>B</th>\n",
       "      <td>67.0</td>\n",
       "      <td>33.0</td>\n",
       "    </tr>\n",
       "    <tr>\n",
       "      <th>H</th>\n",
       "      <td>58.0</td>\n",
       "      <td>42.0</td>\n",
       "    </tr>\n",
       "    <tr>\n",
       "      <th>N</th>\n",
       "      <td>56.0</td>\n",
       "      <td>44.0</td>\n",
       "    </tr>\n",
       "    <tr>\n",
       "      <th>O</th>\n",
       "      <td>66.0</td>\n",
       "      <td>34.0</td>\n",
       "    </tr>\n",
       "    <tr>\n",
       "      <th>W</th>\n",
       "      <td>66.0</td>\n",
       "      <td>34.0</td>\n",
       "    </tr>\n",
       "  </tbody>\n",
       "</table>\n",
       "</div>"
      ],
      "text/plain": [
       "   attack  no_attack\n",
       "A    55.0       45.0\n",
       "B    67.0       33.0\n",
       "H    58.0       42.0\n",
       "N    56.0       44.0\n",
       "O    66.0       34.0\n",
       "W    66.0       34.0"
      ]
     },
     "execution_count": 35,
     "metadata": {},
     "output_type": "execute_result"
    }
   ],
   "source": [
    "# Display proportions\n",
    "percent_attack"
   ]
  },
  {
   "cell_type": "markdown",
   "metadata": {},
   "source": [
    "We see that for each race there were more attacks than not, which is consistent with the data above. Additionally, we added a line to represent the percentage of white people that attacked police. From this we see that no race had  significantly higher or lower rates of attack. In fact the difference in the proportions among races of people that attacked the police is not significantly great (less than 15% between any race).\n",
    "\n",
    "The proportion of black people who attacked police is higher than that of white people by only one percent. This shows us that about the same proportion of white and black people fatally shot by the police attacked at some point in the encounter, yet as we learned, black people are killed more by the police. \n",
    "\n",
    "This shows that no racial minority is any more violent toward the police than white people. So, why are they more likely to be shot? "
   ]
  },
  {
   "cell_type": "markdown",
   "metadata": {},
   "source": [
    "## Conclusion\n",
    "\n",
    "Although the chances of being fatally shot by a police officer in the US are small, individuals of racial minorities are more likely to be than white people are. We found that on average 2-5 black people are killed by police for every white person killed in the same way in the US, which is more than any race in the country. \n",
    "\n",
    "Additionally, we found that no race was particularly more violent toward police than white people were. Despite this we still see a higher rate of fatal shootings of minorities, which shows that, yes, there is a disproportion and, no, it is not because minorities are more violent than white people. \n",
    "\n",
    "This does not mean that all police officers are evil racists, but only shows a trend that may point to underlying racial prejudice among police officers and even society. After investigating we see that the data shows this is a real issue that needs to be understood and addressed in some way by everyone."
   ]
  }
 ],
 "metadata": {
  "kernelspec": {
   "display_name": "Python 3",
   "language": "python",
   "name": "python3"
  },
  "language_info": {
   "codemirror_mode": {
    "name": "ipython",
    "version": 3
   },
   "file_extension": ".py",
   "mimetype": "text/x-python",
   "name": "python",
   "nbconvert_exporter": "python",
   "pygments_lexer": "ipython3",
   "version": "3.8.2"
  }
 },
 "nbformat": 4,
 "nbformat_minor": 4
}
